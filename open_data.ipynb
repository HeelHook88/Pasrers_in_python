{
 "cells": [
  {
   "cell_type": "code",
   "execution_count": 1,
   "metadata": {},
   "outputs": [],
   "source": [
    "import pandas as pd\n",
    "import matplotlib.pyplot as plt\n",
    "import matplotlib\n",
    "%matplotlib inline"
   ]
  },
  {
   "cell_type": "code",
   "execution_count": 2,
   "metadata": {},
   "outputs": [],
   "source": [
    "df = pd.read_csv('opendata.csv', encoding='Windows-1251')"
   ]
  },
  {
   "cell_type": "code",
   "execution_count": 3,
   "metadata": {},
   "outputs": [
    {
     "data": {
      "text/html": [
       "<div>\n",
       "<style scoped>\n",
       "    .dataframe tbody tr th:only-of-type {\n",
       "        vertical-align: middle;\n",
       "    }\n",
       "\n",
       "    .dataframe tbody tr th {\n",
       "        vertical-align: top;\n",
       "    }\n",
       "\n",
       "    .dataframe thead th {\n",
       "        text-align: right;\n",
       "    }\n",
       "</style>\n",
       "<table border=\"1\" class=\"dataframe\">\n",
       "  <thead>\n",
       "    <tr style=\"text-align: right;\">\n",
       "      <th></th>\n",
       "      <th>name</th>\n",
       "      <th>region</th>\n",
       "      <th>date</th>\n",
       "      <th>value</th>\n",
       "    </tr>\n",
       "  </thead>\n",
       "  <tbody>\n",
       "    <tr>\n",
       "      <td>0</td>\n",
       "      <td>Количество заявок на потребительские кредиты</td>\n",
       "      <td>Россия</td>\n",
       "      <td>2013-01-15</td>\n",
       "      <td>571147</td>\n",
       "    </tr>\n",
       "    <tr>\n",
       "      <td>1</td>\n",
       "      <td>Количество заявок на потребительские кредиты</td>\n",
       "      <td>Россия</td>\n",
       "      <td>2013-02-15</td>\n",
       "      <td>504508</td>\n",
       "    </tr>\n",
       "    <tr>\n",
       "      <td>2</td>\n",
       "      <td>Количество заявок на потребительские кредиты</td>\n",
       "      <td>Россия</td>\n",
       "      <td>2013-03-15</td>\n",
       "      <td>628803</td>\n",
       "    </tr>\n",
       "    <tr>\n",
       "      <td>3</td>\n",
       "      <td>Количество заявок на потребительские кредиты</td>\n",
       "      <td>Россия</td>\n",
       "      <td>2013-04-15</td>\n",
       "      <td>836054</td>\n",
       "    </tr>\n",
       "    <tr>\n",
       "      <td>4</td>\n",
       "      <td>Количество заявок на потребительские кредиты</td>\n",
       "      <td>Россия</td>\n",
       "      <td>2013-05-15</td>\n",
       "      <td>867235</td>\n",
       "    </tr>\n",
       "    <tr>\n",
       "      <td>5</td>\n",
       "      <td>Количество заявок на потребительские кредиты</td>\n",
       "      <td>Россия</td>\n",
       "      <td>2013-06-15</td>\n",
       "      <td>768036</td>\n",
       "    </tr>\n",
       "    <tr>\n",
       "      <td>6</td>\n",
       "      <td>Количество заявок на потребительские кредиты</td>\n",
       "      <td>Россия</td>\n",
       "      <td>2013-07-15</td>\n",
       "      <td>912096</td>\n",
       "    </tr>\n",
       "    <tr>\n",
       "      <td>7</td>\n",
       "      <td>Количество заявок на потребительские кредиты</td>\n",
       "      <td>Россия</td>\n",
       "      <td>2013-08-15</td>\n",
       "      <td>911461</td>\n",
       "    </tr>\n",
       "    <tr>\n",
       "      <td>8</td>\n",
       "      <td>Количество заявок на потребительские кредиты</td>\n",
       "      <td>Россия</td>\n",
       "      <td>2013-09-15</td>\n",
       "      <td>856974</td>\n",
       "    </tr>\n",
       "    <tr>\n",
       "      <td>9</td>\n",
       "      <td>Количество заявок на потребительские кредиты</td>\n",
       "      <td>Россия</td>\n",
       "      <td>2013-10-15</td>\n",
       "      <td>977855</td>\n",
       "    </tr>\n",
       "  </tbody>\n",
       "</table>\n",
       "</div>"
      ],
      "text/plain": [
       "                                           name  region        date   value\n",
       "0  Количество заявок на потребительские кредиты  Россия  2013-01-15  571147\n",
       "1  Количество заявок на потребительские кредиты  Россия  2013-02-15  504508\n",
       "2  Количество заявок на потребительские кредиты  Россия  2013-03-15  628803\n",
       "3  Количество заявок на потребительские кредиты  Россия  2013-04-15  836054\n",
       "4  Количество заявок на потребительские кредиты  Россия  2013-05-15  867235\n",
       "5  Количество заявок на потребительские кредиты  Россия  2013-06-15  768036\n",
       "6  Количество заявок на потребительские кредиты  Россия  2013-07-15  912096\n",
       "7  Количество заявок на потребительские кредиты  Россия  2013-08-15  911461\n",
       "8  Количество заявок на потребительские кредиты  Россия  2013-09-15  856974\n",
       "9  Количество заявок на потребительские кредиты  Россия  2013-10-15  977855"
      ]
     },
     "execution_count": 3,
     "metadata": {},
     "output_type": "execute_result"
    }
   ],
   "source": [
    "df.head(10)"
   ]
  },
  {
   "cell_type": "code",
   "execution_count": 4,
   "metadata": {},
   "outputs": [],
   "source": [
    "df = pd.concat([df, pd.get_dummies(df['name'])], axis=1)"
   ]
  },
  {
   "cell_type": "code",
   "execution_count": 5,
   "metadata": {},
   "outputs": [
    {
     "data": {
      "text/plain": [
       "array(['Количество заявок на потребительские кредиты',\n",
       "       'Средняя сумма заявки на потребительский кредит',\n",
       "       'Количество заявок на ипотечные кредиты',\n",
       "       'Средняя сумма заявки на ипотечный кредит',\n",
       "       'Количество новых депозитов', 'Средняя сумма нового депозита',\n",
       "       'Средняя зарплата', 'Средняя пенсия',\n",
       "       'В среднем руб. на текущем счете на человека',\n",
       "       'В среднем депозитов в руб. на человека',\n",
       "       'Средние расходы по картам', 'Средний чек в формате Фастфуд',\n",
       "       'Средний чек в формате Ресторан',\n",
       "       'Средние траты в ресторане фастфуд', 'Средние траты в ресторане'],\n",
       "      dtype=object)"
      ]
     },
     "execution_count": 5,
     "metadata": {},
     "output_type": "execute_result"
    }
   ],
   "source": [
    "df['name'].unique()"
   ]
  },
  {
   "cell_type": "code",
   "execution_count": 6,
   "metadata": {},
   "outputs": [],
   "source": [
    "df = pd.concat([df, pd.get_dummies(df['region'])], axis=1)"
   ]
  },
  {
   "cell_type": "code",
   "execution_count": 7,
   "metadata": {},
   "outputs": [
    {
     "data": {
      "text/plain": [
       "array(['Россия', 'Алтайский край', 'Амурская область',\n",
       "       'Архангельская область', 'Астраханская область',\n",
       "       'Белгородская область', 'Брянская область', 'Владимирская область',\n",
       "       'Волгоградская область', 'Вологодская область',\n",
       "       'Воронежская область', 'Еврейская автономная область',\n",
       "       'Забайкальский край', 'Ивановская область', 'Иркутская область',\n",
       "       'Кабардино-Балкарская Республика', 'Калининградская область',\n",
       "       'Калужская область', 'Камчатский край', 'Кемеровская область',\n",
       "       'Кировская область', 'Костромская область', 'Краснодарский край',\n",
       "       'Красноярский край', 'Курганская область', 'Курская область',\n",
       "       'Ленинградская область', 'Липецкая область', 'Магаданская область',\n",
       "       'Москва', 'Московская область', 'Мурманская область',\n",
       "       'Ненецкий автономный округ', 'Нижегородская область',\n",
       "       'Новгородская область', 'Новосибирская область', 'Омская область',\n",
       "       'Оренбургская область', 'Орловская область', 'Пензенская область',\n",
       "       'Пермский край', 'Приморский край', 'Псковская область',\n",
       "       'Республика Адыгея', 'Республика Алтай (Горный Алтай)',\n",
       "       'Республика Башкортостан', 'Республика Бурятия',\n",
       "       'Республика Дагестан', 'Республика Ингушетия',\n",
       "       'Республика Калмыкия', 'Республика Карачаево-Черкессия',\n",
       "       'Республика Карелия', 'Республика Коми', 'Республика Марий Эл',\n",
       "       'Республика Мордовия', 'Республика Саха (Якутия)',\n",
       "       'Республика Северная Осетия-Алания', 'Республика Татарстан',\n",
       "       'Республика Тыва', 'Республика Хакасия', 'Ростовская область',\n",
       "       'Рязанская область', 'Самарская область', 'Санкт-Петербург',\n",
       "       'Саратовская область', 'Сахалинская область',\n",
       "       'Свердловская область', 'Смоленская область',\n",
       "       'Ставропольский край', 'Тамбовская область', 'Тверская область',\n",
       "       'Томская область', 'Тульская область', 'Тюменская область',\n",
       "       'Удмуртская Республика', 'Ульяновская область', 'Хабаровский край',\n",
       "       'Ханты-Мансийский автономный округ — Югра', 'Челябинская область',\n",
       "       'Чеченская Республика', 'Чувашская Республика',\n",
       "       'Чукотский автономный округ', 'Ямало-Ненецкий автономный округ',\n",
       "       'Ярославская область'], dtype=object)"
      ]
     },
     "execution_count": 7,
     "metadata": {},
     "output_type": "execute_result"
    }
   ],
   "source": [
    "df['region'].unique()"
   ]
  },
  {
   "cell_type": "code",
   "execution_count": 8,
   "metadata": {},
   "outputs": [],
   "source": [
    "params = ['Количество заявок на потребительские кредиты',\n",
    "       'Средняя сумма заявки на потребительский кредит',\n",
    "       'Количество заявок на ипотечные кредиты',\n",
    "       'Средняя сумма заявки на ипотечный кредит',\n",
    "       'Количество новых депозитов', 'Средняя сумма нового депозита',\n",
    "       'Средняя зарплата', 'Средняя пенсия',\n",
    "       'В среднем руб. на текущем счете на человека',\n",
    "       'В среднем депозитов в руб. на человека',\n",
    "       'Средние расходы по картам', 'Средний чек в формате Фастфуд',\n",
    "       'Средний чек в формате Ресторан',\n",
    "       'Средние траты в ресторане фастфуд', 'Средние траты в ресторане']"
   ]
  },
  {
   "cell_type": "code",
   "execution_count": 9,
   "metadata": {},
   "outputs": [],
   "source": [
    "regions = ['Россия', 'Алтайский край', 'Амурская область',\n",
    "       'Архангельская область', 'Астраханская область',\n",
    "       'Белгородская область', 'Брянская область', 'Владимирская область',\n",
    "       'Волгоградская область', 'Вологодская область',\n",
    "       'Воронежская область', 'Еврейская автономная область',\n",
    "       'Забайкальский край', 'Ивановская область', 'Иркутская область',\n",
    "       'Кабардино-dБалкарская Республика', 'Калининградская область',\n",
    "       'Калужская область', 'Камчатский край', 'Кемеровская область',\n",
    "       'Кировская область', 'Костромская область', 'Краснодарский край',\n",
    "       'Красноярский край', 'Курганская область', 'Курская область',\n",
    "       'Ленинградская область', 'Липецкая область', 'Магаданская область',\n",
    "       'Москва', 'Московская область', 'Мурманская область',\n",
    "       'Ненецкий автономный округ', 'Нижегородская область',\n",
    "       'Новгородская область', 'Новосибирская область', 'Омская область',\n",
    "       'Оренбургская область', 'Орловская область', 'Пензенская область',\n",
    "       'Пермский край', 'Приморский край', 'Псковская область',\n",
    "       'Республика Адыгея', 'Республика Алтай (Горный Алтай)',\n",
    "       'Республика Башкортостан', 'Республика Бурятия',\n",
    "       'Республика Дагестан', 'Республика Ингушетия',\n",
    "       'Республика Калмыкия', 'Республика Карачаево-Черкессия',\n",
    "       'Республика Карелия', 'Республика Коми', 'Республика Марий Эл',\n",
    "       'Республика Мордовия', 'Республика Саха (Якутия)',\n",
    "       'Республика Северная Осетия-Алания', 'Республика Татарстан',\n",
    "       'Республика Тыва', 'Республика Хакасия', 'Ростовская область',\n",
    "       'Рязанская область', 'Самарская область', 'Санкт-Петербург',\n",
    "       'Саратовская область', 'Сахалинская область',\n",
    "       'Свердловская область', 'Смоленская область',\n",
    "       'Ставропольский край', 'Тамбовская область', 'Тверская область',\n",
    "       'Томская область', 'Тульская область', 'Тюменская область',\n",
    "       'Удмуртская Республика', 'Ульяновская область', 'Хабаровский край',\n",
    "       'Ханты-Мансийский автономный округ — Югра', 'Челябинская область',\n",
    "       'Чеченская Республика', 'Чувашская Республика',\n",
    "       'Чукотский автономный округ', 'Ямало-Ненецкий автономный округ',\n",
    "       'Ярославская область']"
   ]
  },
  {
   "cell_type": "code",
   "execution_count": 10,
   "metadata": {},
   "outputs": [],
   "source": [
    "target_param = params[2]\n",
    "target_region = regions[0]"
   ]
  },
  {
   "cell_type": "code",
   "execution_count": 11,
   "metadata": {},
   "outputs": [],
   "source": [
    "subframe = df.loc[((df[target_param]==1) & (df[target_region]==1)), ['date','value', target_param, target_region]]"
   ]
  },
  {
   "cell_type": "code",
   "execution_count": 12,
   "metadata": {},
   "outputs": [
    {
     "data": {
      "text/html": [
       "<div>\n",
       "<style scoped>\n",
       "    .dataframe tbody tr th:only-of-type {\n",
       "        vertical-align: middle;\n",
       "    }\n",
       "\n",
       "    .dataframe tbody tr th {\n",
       "        vertical-align: top;\n",
       "    }\n",
       "\n",
       "    .dataframe thead th {\n",
       "        text-align: right;\n",
       "    }\n",
       "</style>\n",
       "<table border=\"1\" class=\"dataframe\">\n",
       "  <thead>\n",
       "    <tr style=\"text-align: right;\">\n",
       "      <th></th>\n",
       "      <th>date</th>\n",
       "      <th>value</th>\n",
       "      <th>Количество заявок на ипотечные кредиты</th>\n",
       "      <th>Россия</th>\n",
       "    </tr>\n",
       "  </thead>\n",
       "  <tbody>\n",
       "    <tr>\n",
       "      <td>12264</td>\n",
       "      <td>2013-01-15</td>\n",
       "      <td>37869</td>\n",
       "      <td>1</td>\n",
       "      <td>1</td>\n",
       "    </tr>\n",
       "    <tr>\n",
       "      <td>12265</td>\n",
       "      <td>2013-02-15</td>\n",
       "      <td>48205</td>\n",
       "      <td>1</td>\n",
       "      <td>1</td>\n",
       "    </tr>\n",
       "    <tr>\n",
       "      <td>12266</td>\n",
       "      <td>2013-03-15</td>\n",
       "      <td>67392</td>\n",
       "      <td>1</td>\n",
       "      <td>1</td>\n",
       "    </tr>\n",
       "    <tr>\n",
       "      <td>12267</td>\n",
       "      <td>2013-04-15</td>\n",
       "      <td>74644</td>\n",
       "      <td>1</td>\n",
       "      <td>1</td>\n",
       "    </tr>\n",
       "    <tr>\n",
       "      <td>12268</td>\n",
       "      <td>2013-05-15</td>\n",
       "      <td>63245</td>\n",
       "      <td>1</td>\n",
       "      <td>1</td>\n",
       "    </tr>\n",
       "    <tr>\n",
       "      <td>12269</td>\n",
       "      <td>2013-06-15</td>\n",
       "      <td>62533</td>\n",
       "      <td>1</td>\n",
       "      <td>1</td>\n",
       "    </tr>\n",
       "    <tr>\n",
       "      <td>12270</td>\n",
       "      <td>2013-07-15</td>\n",
       "      <td>80042</td>\n",
       "      <td>1</td>\n",
       "      <td>1</td>\n",
       "    </tr>\n",
       "    <tr>\n",
       "      <td>12271</td>\n",
       "      <td>2013-08-15</td>\n",
       "      <td>90466</td>\n",
       "      <td>1</td>\n",
       "      <td>1</td>\n",
       "    </tr>\n",
       "    <tr>\n",
       "      <td>12272</td>\n",
       "      <td>2013-09-15</td>\n",
       "      <td>73239</td>\n",
       "      <td>1</td>\n",
       "      <td>1</td>\n",
       "    </tr>\n",
       "    <tr>\n",
       "      <td>12273</td>\n",
       "      <td>2013-10-15</td>\n",
       "      <td>85488</td>\n",
       "      <td>1</td>\n",
       "      <td>1</td>\n",
       "    </tr>\n",
       "  </tbody>\n",
       "</table>\n",
       "</div>"
      ],
      "text/plain": [
       "             date  value  Количество заявок на ипотечные кредиты  Россия\n",
       "12264  2013-01-15  37869                                       1       1\n",
       "12265  2013-02-15  48205                                       1       1\n",
       "12266  2013-03-15  67392                                       1       1\n",
       "12267  2013-04-15  74644                                       1       1\n",
       "12268  2013-05-15  63245                                       1       1\n",
       "12269  2013-06-15  62533                                       1       1\n",
       "12270  2013-07-15  80042                                       1       1\n",
       "12271  2013-08-15  90466                                       1       1\n",
       "12272  2013-09-15  73239                                       1       1\n",
       "12273  2013-10-15  85488                                       1       1"
      ]
     },
     "execution_count": 12,
     "metadata": {},
     "output_type": "execute_result"
    }
   ],
   "source": [
    "subframe.head(10)"
   ]
  },
  {
   "cell_type": "code",
   "execution_count": 13,
   "metadata": {},
   "outputs": [
    {
     "data": {
      "image/png": "[encoded data removed]",
      "text/plain": [
       "<Figure size 1152x576 with 1 Axes>"
      ]
     },
     "metadata": {
      "needs_background": "light"
     },
     "output_type": "display_data"
    }
   ],
   "source": [
    "plt.figure(figsize = (16, 8))\n",
    "\n",
    "plt.plot(subframe['date'], subframe['value'])\n",
    "plt.xticks(rotation='vertical')\n",
    "\n",
    "plt.show()"
   ]
  }
 ],
 "metadata": {
  "kernelspec": {
   "display_name": "Python 3",
   "language": "python",
   "name": "python3"
  },
  "language_info": {
   "codemirror_mode": {
    "name": "ipython",
    "version": 3
   },
   "file_extension": ".py",
   "mimetype": "text/x-python",
   "name": "python",
   "nbconvert_exporter": "python",
   "pygments_lexer": "ipython3",
   "version": "3.7.4"
  }
 },
 "nbformat": 4,
 "nbformat_minor": 2
}
